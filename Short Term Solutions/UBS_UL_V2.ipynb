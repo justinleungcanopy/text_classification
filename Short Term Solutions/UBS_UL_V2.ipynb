{
 "cells": [
  {
   "cell_type": "code",
   "execution_count": 3,
   "metadata": {},
   "outputs": [
    {
     "name": "stdout",
     "output_type": "stream",
     "text": [
      "Requirement already satisfied: xlrd in c:\\users\\justin leung\\appdata\\local\\conda\\conda\\envs\\datafeed\\lib\\site-packages (1.1.0)\n",
      "Collecting PyEnchant\n",
      "  Using cached https://files.pythonhosted.org/packages/9e/54/04d88a59efa33fefb88133ceb638cdf754319030c28aadc5a379d82140ed/pyenchant-2.0.0.tar.gz\n",
      "    Complete output from command python setup.py egg_info:\n",
      "    Traceback (most recent call last):\n",
      "      File \"<string>\", line 1, in <module>\n",
      "      File \"C:\\Users\\JUSTIN~1\\AppData\\Local\\Temp\\pip-install-yku4rsdm\\PyEnchant\\setup.py\", line 212, in <module>\n",
      "        import enchant\n",
      "      File \"C:\\Users\\JUSTIN~1\\AppData\\Local\\Temp\\pip-install-yku4rsdm\\PyEnchant\\enchant\\__init__.py\", line 92, in <module>\n",
      "        from enchant import _enchant as _e\n",
      "      File \"C:\\Users\\JUSTIN~1\\AppData\\Local\\Temp\\pip-install-yku4rsdm\\PyEnchant\\enchant\\_enchant.py\", line 145, in <module>\n",
      "        raise ImportError(msg)\n",
      "    ImportError: The 'enchant' C library was not found. Please install it via your OS package manager, or use a pre-built binary wheel from PyPI.\n",
      "    \n",
      "    ----------------------------------------\n"
     ]
    },
    {
     "name": "stderr",
     "output_type": "stream",
     "text": [
      "Command \"python setup.py egg_info\" failed with error code 1 in C:\\Users\\JUSTIN~1\\AppData\\Local\\Temp\\pip-install-yku4rsdm\\PyEnchant\\\n"
     ]
    }
   ],
   "source": [
    "import numpy as np \n",
    "import pandas as pd \n",
    "!pip install xlrd\n",
    "import re\n",
    "!pip install PyEnchant"
   ]
  },
  {
   "cell_type": "markdown",
   "metadata": {},
   "source": [
    "### English Word Test"
   ]
  },
  {
   "cell_type": "code",
   "execution_count": 6,
   "metadata": {},
   "outputs": [
    {
     "name": "stdout",
     "output_type": "stream",
     "text": [
      "206 ns ± 2.52 ns per loop (mean ± std. dev. of 7 runs, 1000000 loops each)\n"
     ]
    }
   ],
   "source": [
    "with open(\"./Data Files/EN_US.txt\") as word_file:\n",
    "    english_words = set(word.strip().lower() for word in word_file)\n",
    "def is_word(word):\n",
    "    return word.lower() in english_words"
   ]
  },
  {
   "cell_type": "code",
   "execution_count": 2,
   "metadata": {},
   "outputs": [],
   "source": [
    "excel_file = './Data Files/UBS Statement.xlsx'"
   ]
  },
  {
   "cell_type": "code",
   "execution_count": null,
   "metadata": {},
   "outputs": [],
   "source": [
    "def uniform_solution_solver(excel_file):\n",
    "    df = pd.read_excel(excel_file)\n",
    "    \n",
    "    \n",
    "    #easy rows\n",
    "    #CcyAccountCode should have curency column\n",
    "    output_col = ['Action','CcyAccountCode','TradeDate','ValueDate','Narration','Amount','TransactionType','Ticker','Quantity','Price','DirtyPrice','HashTags']\n",
    "    output_df = pd.DataFrame(columns=output_col)\n",
    "    output_df['TradeDate'] = df['Trade date']\n",
    "    output_df['ValueDate'] = df['Value date']\n",
    "    output_df['Narration'] = df['Information']\n",
    "    output_df['Amount'] = -df['Debit']\n",
    "    output_df['Amount'] = output_df['Amount'].add(df['Credit'],fill_value = 0)\n",
    "    output_df.drop(output_df.index[output_df['Amount'].isna()],inplace=True)\n",
    "    output_df.index = range(len(output_df))\n",
    "    output_df['Action'] = pd.Series(['CreateTransaction']*len(output_df))\n",
    "    \n",
    "    #CcyAccountCode\n",
    "    ccyaccountcode = 'Dummy Account Number'\n",
    "    output_df['CcyAccountCode'] = pd.Series([ccyaccountcode]*len(output_df))\n",
    "    \n",
    "    #detect narration type\n",
    "    narration = []\n",
    "    ticker_boo = []\n",
    "    ticker_info = []\n",
    "    for i in output_df['Narration']:\n",
    "        if type(i) is str:\n",
    "            narration.append(text_classification(i)[0])\n",
    "            if len(text_classification(i)[1]) != 0:\n",
    "                ticker_boo.append(['LoanRef',True])\n",
    "                ticker_info.append(text_classification(i)[1])\n",
    "            else:\n",
    "                ticker_boo.append(['No ticker',False])\n",
    "                ticker_info.append(np.nan)\n",
    "        else:\n",
    "            pass\n",
    "    output_df['TransactionType'] = pd.Series(narration)\n",
    "    #ticker\n",
    "    output_df['Ticker'] = pd.Series(ticker_boo)\n",
    "    for i in range(len(output_df['Ticker'])):\n",
    "        if output_df['Ticker'][i][1]:\n",
    "            output_df['Ticker'][i] = '_'.join((output_df['Ticker'][i][0],output_df['CcyAccountCode'][i],' '.join(ticker_info[i])))\n",
    "        elif ~output_df['Ticker'][i][1]:\n",
    "            output_df['Ticker'][i] = np.nan\n",
    "        else:\n",
    "            print(\"Please check code. Error.\")\n",
    "    \n",
    "    \n",
    "    return output_df"
   ]
  },
  {
   "cell_type": "code",
   "execution_count": null,
   "metadata": {},
   "outputs": [],
   "source": [
    "print(uniform_solution_solver(excel_file))"
   ]
  },
  {
   "cell_type": "code",
   "execution_count": null,
   "metadata": {},
   "outputs": [],
   "source": [
    "def text_classification(string):\n",
    "    splitted = string.split(' ')\n",
    "    output = []\n",
    "    ticker = False\n",
    "    for splits in splitted:\n",
    "        if splits.lower() == 'repayment':\n",
    "            output.append('LoanRepay')\n",
    "            ticker = True\n",
    "        elif splits.lower() == 'interest':\n",
    "            output.append('LoanCost')\n",
    "            ticker = True\n",
    "        elif splits.lower() == 'loan':\n",
    "            output.append('LoanCreate')\n",
    "            ticker = True\n",
    "        elif splits.lower() == 'dividend':\n",
    "            output.append('Distribution')\n",
    "        elif splits.lower() == 'investment':\n",
    "            output.append('Purchase')\n",
    "        else:\n",
    "            pass\n",
    "    no_char = ''\n",
    "    if ticker:\n",
    "        no_char = re.sub('[a-z,A-Z]', '',string)\n",
    "    if len(output) == 1:\n",
    "        return (output[0],[i for i in no_char.split(' ') if i != ''])\n",
    "    else:\n",
    "        return 'Please Check Manually'"
   ]
  },
  {
   "cell_type": "code",
   "execution_count": null,
   "metadata": {},
   "outputs": [],
   "source": []
  }
 ],
 "metadata": {
  "kernelspec": {
   "display_name": "Python 3",
   "language": "python",
   "name": "python3"
  },
  "language_info": {
   "codemirror_mode": {
    "name": "ipython",
    "version": 3
   },
   "file_extension": ".py",
   "mimetype": "text/x-python",
   "name": "python",
   "nbconvert_exporter": "python",
   "pygments_lexer": "ipython3",
   "version": "3.6.5"
  }
 },
 "nbformat": 4,
 "nbformat_minor": 2
}
