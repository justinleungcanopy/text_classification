{
 "cells": [
  {
   "cell_type": "code",
   "execution_count": 1,
   "metadata": {},
   "outputs": [],
   "source": [
    "import numpy as np \n",
    "import pandas as pd \n",
    "import xlrd\n",
    "import re\n",
    "from sklearn.feature_extraction.text import CountVectorizer"
   ]
  },
  {
   "cell_type": "markdown",
   "metadata": {},
   "source": [
    "### English Word Test"
   ]
  },
  {
   "cell_type": "code",
   "execution_count": 2,
   "metadata": {},
   "outputs": [],
   "source": [
    "with open(\"./Data Files/EN_US.txt\") as word_file:\n",
    "    english_words = set(word.strip().lower() for word in word_file)\n",
    "def is_word(word):\n",
    "    return word.lower() in english_words"
   ]
  },
  {
   "cell_type": "markdown",
   "metadata": {},
   "source": [
    "### Methods to classify text"
   ]
  },
  {
   "cell_type": "code",
   "execution_count": 3,
   "metadata": {},
   "outputs": [],
   "source": [
    "def extract_processed_words(series_): #series is the bank statement/narration\n",
    "    df = pd.Series(series_)\n",
    "    df.columns = ['narration']\n",
    "    hyphen_text = df['test'].str.extract(\"^([A-Z]+-[A-Z]+[A-Z\\s]*)\\s\",expand=True)\n",
    "    upper_case_text = df['test'].str.extract(\"^([A-Z\\s]*)\\s\",expand=True)\n",
    "    forex.columns = ['Features']\n",
    "    interest.columns = ['Features']\n",
    "    hyphen_text = hyphen_text.dropna()\n",
    "    hyphen_text['Features'] = hyphen_text['Features'].str.split('-| ').str.lower()\n",
    "    upper_case_text = upper_case_text.dropna()\n",
    "    upper_case_text['Features'] = upper_case_text['Features'].str.split(' ')\n",
    "    combined = pd.concat([hyphen_text,upper_case_text]).sort_index().reset_index()\n",
    "    df_length = combined['index'][len(combined)-1]\n",
    "    combined = combined.set_index('index')\n",
    "    new_index = pd.Index(np.arange(0,df_length+1,1))\n",
    "    combined = combined.reindex(new_index).reset_index()\n",
    "    combined = combined.drop(['index'],axis=1)\n",
    "    return combined"
   ]
  },
  {
   "cell_type": "code",
   "execution_count": 4,
   "metadata": {},
   "outputs": [],
   "source": [
    "def get_english_words_out_of_string(string):\n",
    "    output_list = [string]\n",
    "    ticker_list = []\n",
    "    for splits in string.split(' '):\n",
    "        if is_word(splits):\n",
    "            output_list.append(splits.lower())\n",
    "        else:\n",
    "            break\n",
    "    for splits in string.split(' '):\n",
    "        if splits.lower() in output_list:\n",
    "            pass\n",
    "        else:\n",
    "            ticker_list.append(splits)\n",
    "    return output_list,' '.join(ticker_list)"
   ]
  },
  {
   "cell_type": "code",
   "execution_count": 5,
   "metadata": {},
   "outputs": [
    {
     "name": "stdout",
     "output_type": "stream",
     "text": [
      "(['Loan Payment 0546-00866537.90 0008', 'loan', 'payment'], '0546-00866537.90 0008')\n"
     ]
    }
   ],
   "source": [
    "print(get_english_words_out_of_string(\"Loan Payment 0546-00866537.90 0008\"))"
   ]
  },
  {
   "cell_type": "code",
   "execution_count": 6,
   "metadata": {},
   "outputs": [],
   "source": [
    "def get_vectorized_result(series_):\n",
    "    nar_list = []\n",
    "    output_list = []\n",
    "    for i in series_:\n",
    "        l = get_english_words_out_of_string(i)[0]\n",
    "        l[1:] = [' '.join(l[1:])] \n",
    "        nar_list.append(l[0])\n",
    "        output_list.append(l[1])      \n",
    "    vectorizer = CountVectorizer(min_df=0)\n",
    "    X = vectorizer.fit_transform(pd.Series(output_list))\n",
    "    df = pd.DataFrame(X.toarray())\n",
    "    df = df.set_index(pd.Series(nar_list))\n",
    "    df.columns = vectorizer.get_feature_names()\n",
    "    return df"
   ]
  },
  {
   "cell_type": "code",
   "execution_count": 7,
   "metadata": {},
   "outputs": [],
   "source": [
    "def decision_tree(df):\n",
    "    row,col = df.shape\n",
    "    output_list = ['Manual'] * row\n",
    "    df = df.reset_index(drop=True)\n",
    "    distribution_i = np.sort(df.index[df['dividend'] == 1])\n",
    "    purchase_i = np.sort(df.index[df['investment'] == 1])\n",
    "    loanCreate_i = np.sort(df.index[df['payment'] == 1])\n",
    "    loanRepay_i = np.sort(df.index[df['repayment'] == 1])\n",
    "    loanCost_i = np.sort(df.index[df['interest'] == 1])\n",
    "    for x in distribution_i:\n",
    "        output_list[x] = 'Distribution'\n",
    "    for x in purchase_i:\n",
    "        output_list[x] = 'Purchase'\n",
    "    for x in loanCreate_i:\n",
    "        output_list[x] = 'LoanCreate'\n",
    "    for x in loanRepay_i:\n",
    "        output_list[x] = 'LoanRepay'\n",
    "    for x in loanCost_i:\n",
    "        output_list[x] = 'LoanCost'\n",
    "    return output_list"
   ]
  },
  {
   "cell_type": "code",
   "execution_count": 23,
   "metadata": {},
   "outputs": [],
   "source": [
    "def classifier(list_):\n",
    "    if 'dividend' in list_:\n",
    "        return 'Distribution'\n",
    "    elif 'investment' in list_:\n",
    "        return 'Purchase'\n",
    "    elif 'payment' in list_:\n",
    "        return 'LoanCreate'\n",
    "    elif 'repayment' in list_:\n",
    "        return 'LoanRepay'\n",
    "    elif 'interest' in list_:\n",
    "        return 'LoanCost'\n",
    "    else:\n",
    "        return r'Please do this manually'"
   ]
  },
  {
   "cell_type": "code",
   "execution_count": 28,
   "metadata": {},
   "outputs": [],
   "source": [
    "def split_and_decide(series):\n",
    "    output_list = []\n",
    "    for i in series:\n",
    "        l = get_english_words_out_of_string(i)[0] #list of splits\n",
    "        transactionType = classifier(l)\n",
    "        output_list.append(transactionType)\n",
    "    return (output_list)"
   ]
  },
  {
   "cell_type": "markdown",
   "metadata": {},
   "source": [
    "### Solver"
   ]
  },
  {
   "cell_type": "code",
   "execution_count": 25,
   "metadata": {},
   "outputs": [],
   "source": [
    "excel_file = './Data Files/ubs_raw_statement.xlsx'"
   ]
  },
  {
   "cell_type": "code",
   "execution_count": 30,
   "metadata": {},
   "outputs": [],
   "source": [
    "def UBS_solver(excel_file):\n",
    "    df = pd.read_excel(excel_file)\n",
    "    \n",
    "    \n",
    "    #easy rows\n",
    "    #CcyAccountCode should have curency column\n",
    "    output_col = ['Action','CcyAccountCode','TradeDate','ValueDate','Narration','Amount','TransactionType','Ticker','Quantity','Price','DirtyPrice','HashTags']\n",
    "    output_df = pd.DataFrame(columns=output_col)\n",
    "    output_df['TradeDate'] = df['Trade date']\n",
    "    output_df['ValueDate'] = df['Value date']\n",
    "    output_df['Narration'] = df['Information']\n",
    "    output_df['Amount'] = -df['Debit']\n",
    "    output_df['Amount'] = output_df['Amount'].add(df['Credit'],fill_value = 0)\n",
    "    output_df.drop(output_df.index[output_df['Amount'].isna()],inplace=True)\n",
    "    output_df.index = range(len(output_df))\n",
    "    output_df['Action'] = pd.Series(['CreateTransaction']*len(output_df))\n",
    "    \n",
    "    #CcyAccountCode\n",
    "    ccyaccountcode = 'Dummy Account Number'\n",
    "    output_df['CcyAccountCode'] = pd.Series([ccyaccountcode]*len(output_df))\n",
    "    \n",
    "    #text classification\n",
    "    #table_for_decision_tree = get_vectorized_result(output_df['Narration'])\n",
    "    #classified_text_df = decision_tree(table_for_decision_tree)\n",
    "    classified_text_df = split_and_decide(output_df['Narration'])\n",
    "    output_df['TransactionType'] = pd.Series(classified_text_df)\n",
    "    #ticker\n",
    "    LoanRepay = list(output_df.index[output_df['TransactionType'] == 'LoanRepay'])\n",
    "    LoanCost = list(output_df.index[output_df['TransactionType'] == 'LoanCost'])\n",
    "    LoanCreate = list(output_df.index[output_df['TransactionType'] == 'LoanCreate'])\n",
    "    Loan = LoanRepay + LoanCost + LoanCreate\n",
    "    for i in Loan:\n",
    "        output_df['Ticker'][i] = '_'.join([\"LoanRef\",output_df[\"CcyAccountCode\"][i],get_english_words_out_of_string(output_df['Narration'][i])[1]])\n",
    "    \n",
    "    \n",
    "    return output_df"
   ]
  },
  {
   "cell_type": "code",
   "execution_count": 31,
   "metadata": {},
   "outputs": [
    {
     "name": "stderr",
     "output_type": "stream",
     "text": [
      "C:\\Users\\Justin Leung\\AppData\\Local\\conda\\conda\\envs\\datafeed\\lib\\site-packages\\ipykernel_launcher.py:33: SettingWithCopyWarning: \n",
      "A value is trying to be set on a copy of a slice from a DataFrame\n",
      "\n",
      "See the caveats in the documentation: http://pandas.pydata.org/pandas-docs/stable/indexing.html#indexing-view-versus-copy\n"
     ]
    }
   ],
   "source": [
    "writer = pd.ExcelWriter('./Data Files/ubs_statement_processed.xlsx')\n",
    "UBS_solver(excel_file).to_excel(writer,'UBS_Processed',index=None)\n",
    "writer.save()"
   ]
  },
  {
   "cell_type": "code",
   "execution_count": null,
   "metadata": {},
   "outputs": [],
   "source": []
  }
 ],
 "metadata": {
  "kernelspec": {
   "display_name": "Python 3",
   "language": "python",
   "name": "python3"
  },
  "language_info": {
   "codemirror_mode": {
    "name": "ipython",
    "version": 3
   },
   "file_extension": ".py",
   "mimetype": "text/x-python",
   "name": "python",
   "nbconvert_exporter": "python",
   "pygments_lexer": "ipython3",
   "version": "3.6.5"
  }
 },
 "nbformat": 4,
 "nbformat_minor": 2
}
