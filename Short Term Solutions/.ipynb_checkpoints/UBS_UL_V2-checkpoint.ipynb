{
 "cells": [
  {
   "cell_type": "code",
   "execution_count": 1,
   "metadata": {},
   "outputs": [
    {
     "name": "stdout",
     "output_type": "stream",
     "text": [
      "Requirement already satisfied: xlrd in c:\\users\\justin leung\\appdata\\local\\conda\\conda\\envs\\datafeed\\lib\\site-packages (1.1.0)\n"
     ]
    }
   ],
   "source": [
    "import numpy as np \n",
    "import pandas as pd \n",
    "!pip install xlrd\n",
    "import re\n",
    "from sklearn.feature_extraction.text import CountVectorizer"
   ]
  },
  {
   "cell_type": "markdown",
   "metadata": {},
   "source": [
    "### English Word Test"
   ]
  },
  {
   "cell_type": "code",
   "execution_count": 2,
   "metadata": {},
   "outputs": [],
   "source": [
    "with open(\"./Data Files/EN_US.txt\") as word_file:\n",
    "    english_words = set(word.strip().lower() for word in word_file)\n",
    "def is_word(word):\n",
    "    return word.lower() in english_words"
   ]
  },
  {
   "cell_type": "markdown",
   "metadata": {},
   "source": [
    "### Methods to classify text"
   ]
  },
  {
   "cell_type": "code",
   "execution_count": 3,
   "metadata": {},
   "outputs": [],
   "source": [
    "def extract_processed_words(series_): #series is the bank statement/narration\n",
    "    df = pd.Series(series_)\n",
    "    df.columns = ['narration']\n",
    "    hyphen_text = df['test'].str.extract(\"^([A-Z]+-[A-Z]+[A-Z\\s]*)\\s\",expand=True)\n",
    "    upper_case_text = df['test'].str.extract(\"^([A-Z\\s]*)\\s\",expand=True)\n",
    "    forex.columns = ['Features']\n",
    "    interest.columns = ['Features']\n",
    "    hyphen_text = hyphen_text.dropna()\n",
    "    hyphen_text['Features'] = hyphen_text['Features'].str.split('-| ').str.lower()\n",
    "    upper_case_text = upper_case_text.dropna()\n",
    "    upper_case_text['Features'] = upper_case_text['Features'].str.split(' ')\n",
    "    combined = pd.concat([hyphen_text,upper_case_text]).sort_index().reset_index()\n",
    "    df_length = combined['index'][len(combined)-1]\n",
    "    combined = combined.set_index('index')\n",
    "    new_index = pd.Index(np.arange(0,df_length+1,1))\n",
    "    combined = combined.reindex(new_index).reset_index()\n",
    "    combined = combined.drop(['index'],axis=1)\n",
    "    #process NA fields\n",
    "    return combined"
   ]
  },
  {
   "cell_type": "code",
   "execution_count": 114,
   "metadata": {},
   "outputs": [],
   "source": [
    "def get_english_words_out_of_string(string):\n",
    "    output_list = [string]\n",
    "    ticker_list = []\n",
    "    for splits in string.split(' '):\n",
    "        if is_word(splits):\n",
    "            output_list.append(splits.lower())\n",
    "        else:\n",
    "            break\n",
    "    for splits in string.split(' '):\n",
    "        if splits.lower() in output_list:\n",
    "            pass\n",
    "        else:\n",
    "            ticker_list.append(splits)\n",
    "    return output_list,' '.join(ticker_list)"
   ]
  },
  {
   "cell_type": "code",
   "execution_count": 115,
   "metadata": {},
   "outputs": [
    {
     "name": "stdout",
     "output_type": "stream",
     "text": [
      "(['Loan Payment 0546-00866537.90 0008', 'loan', 'payment'], '0546-00866537.90 0008')\n"
     ]
    }
   ],
   "source": [
    "print(get_english_words_out_of_string(\"Loan Payment 0546-00866537.90 0008\"))"
   ]
  },
  {
   "cell_type": "code",
   "execution_count": 116,
   "metadata": {},
   "outputs": [],
   "source": [
    "def get_vectorized_result(series_):\n",
    "    nar_list = []\n",
    "    output_list = []\n",
    "    for i in series_:\n",
    "        l = get_english_words_out_of_string(i)[0]\n",
    "        l[1:] = [' '.join(l[1:])] \n",
    "        nar_list.append(l[0])\n",
    "        output_list.append(l[1])      \n",
    "    vectorizer = CountVectorizer(min_df=0)\n",
    "    X = vectorizer.fit_transform(pd.Series(output_list))\n",
    "    df = pd.DataFrame(X.toarray())\n",
    "    df = df.set_index(pd.Series(nar_list))\n",
    "    df.columns = vectorizer.get_feature_names()\n",
    "    return df"
   ]
  },
  {
   "cell_type": "code",
   "execution_count": 117,
   "metadata": {},
   "outputs": [],
   "source": [
    "def decision_tree(df):\n",
    "    row,col = df.shape\n",
    "    output_list = ['Manual'] * row\n",
    "    df = df.reset_index(drop=True)\n",
    "    distribution_i = np.sort(df.index[df['dividend'] == 1])\n",
    "    purchase_i = np.sort(df.index[df['investment'] == 1])\n",
    "    loanCreate_i = np.sort(df.index[df['payment'] == 1])\n",
    "    loanRepay_i = np.sort(df.index[df['repayment'] == 1])\n",
    "    loanCost_i = np.sort(df.index[df['interest'] == 1])\n",
    "    for x in distribution_i:\n",
    "        output_list[x] = 'Distribution'\n",
    "    for x in purchase_i:\n",
    "        output_list[x] = 'Purchase'\n",
    "    for x in loanCreate_i:\n",
    "        output_list[x] = 'LoanCreate'\n",
    "    for x in loanRepay_i:\n",
    "        output_list[x] = 'LoanRepay'\n",
    "    for x in loanCost_i:\n",
    "        output_list[x] = 'LoanCost'\n",
    "    return output_list"
   ]
  },
  {
   "cell_type": "markdown",
   "metadata": {},
   "source": [
    "### Solver"
   ]
  },
  {
   "cell_type": "code",
   "execution_count": 118,
   "metadata": {},
   "outputs": [],
   "source": [
    "excel_file = './Data Files/UBS Statement.xlsx'"
   ]
  },
  {
   "cell_type": "code",
   "execution_count": 123,
   "metadata": {},
   "outputs": [],
   "source": [
    "def uniform_solution_solver(excel_file):\n",
    "    df = pd.read_excel(excel_file)\n",
    "    \n",
    "    \n",
    "    #easy rows\n",
    "    #CcyAccountCode should have curency column\n",
    "    output_col = ['Action','CcyAccountCode','TradeDate','ValueDate','Narration','Amount','TransactionType','Ticker','Quantity','Price','DirtyPrice','HashTags']\n",
    "    output_df = pd.DataFrame(columns=output_col)\n",
    "    output_df['TradeDate'] = df['Trade date']\n",
    "    output_df['ValueDate'] = df['Value date']\n",
    "    output_df['Narration'] = df['Information']\n",
    "    output_df['Amount'] = -df['Debit']\n",
    "    output_df['Amount'] = output_df['Amount'].add(df['Credit'],fill_value = 0)\n",
    "    output_df.drop(output_df.index[output_df['Amount'].isna()],inplace=True)\n",
    "    output_df.index = range(len(output_df))\n",
    "    output_df['Action'] = pd.Series(['CreateTransaction']*len(output_df))\n",
    "    \n",
    "    #CcyAccountCode\n",
    "    ccyaccountcode = 'Dummy Account Number'\n",
    "    output_df['CcyAccountCode'] = pd.Series([ccyaccountcode]*len(output_df))\n",
    "    \n",
    "    #text classification\n",
    "    table_for_decision_tree = get_vectorized_result(output_df['Narration'])\n",
    "    classified_text_df = decision_tree(table_for_decision_tree)\n",
    "    output_df['TransactionType'] = pd.Series(classified_text_df)\n",
    "    #ticker\n",
    "    LoanRepay = list(output_df.index[output_df['TransactionType'] == 'LoanRepay'])\n",
    "    LoanCost = list(output_df.index[output_df['TransactionType'] == 'LoanCost'])\n",
    "    LoanCreate = list(output_df.index[output_df['TransactionType'] == 'LoanCreate'])\n",
    "    Loan = LoanRepay + LoanCost + LoanCreate\n",
    "    for i in Loan:\n",
    "        output_df['Ticker'][i] = '_'.join([\"LoanRef\",output_df[\"CcyAccountCode\"][i],get_english_words_out_of_string(output_df['Narration'][i])[1]])\n",
    "    \n",
    "    \n",
    "    return output_df"
   ]
  },
  {
   "cell_type": "code",
   "execution_count": 124,
   "metadata": {},
   "outputs": [
    {
     "name": "stderr",
     "output_type": "stream",
     "text": [
      "C:\\Users\\Justin Leung\\AppData\\Local\\conda\\conda\\envs\\datafeed\\lib\\site-packages\\ipykernel_launcher.py:32: SettingWithCopyWarning: \n",
      "A value is trying to be set on a copy of a slice from a DataFrame\n",
      "\n",
      "See the caveats in the documentation: http://pandas.pydata.org/pandas-docs/stable/indexing.html#indexing-view-versus-copy\n"
     ]
    },
    {
     "data": {
      "text/html": [
       "<div>\n",
       "<style scoped>\n",
       "    .dataframe tbody tr th:only-of-type {\n",
       "        vertical-align: middle;\n",
       "    }\n",
       "\n",
       "    .dataframe tbody tr th {\n",
       "        vertical-align: top;\n",
       "    }\n",
       "\n",
       "    .dataframe thead th {\n",
       "        text-align: right;\n",
       "    }\n",
       "</style>\n",
       "<table border=\"1\" class=\"dataframe\">\n",
       "  <thead>\n",
       "    <tr style=\"text-align: right;\">\n",
       "      <th></th>\n",
       "      <th>Action</th>\n",
       "      <th>CcyAccountCode</th>\n",
       "      <th>TradeDate</th>\n",
       "      <th>ValueDate</th>\n",
       "      <th>Narration</th>\n",
       "      <th>Amount</th>\n",
       "      <th>TransactionType</th>\n",
       "      <th>Ticker</th>\n",
       "      <th>Quantity</th>\n",
       "      <th>Price</th>\n",
       "      <th>DirtyPrice</th>\n",
       "      <th>HashTags</th>\n",
       "    </tr>\n",
       "  </thead>\n",
       "  <tbody>\n",
       "    <tr>\n",
       "      <th>0</th>\n",
       "      <td>CreateTransaction</td>\n",
       "      <td>Dummy Account Number</td>\n",
       "      <td>07.05.2018</td>\n",
       "      <td>07.05.2018</td>\n",
       "      <td>Repayment 0546-00866537.90 0007</td>\n",
       "      <td>-2013112.26</td>\n",
       "      <td>LoanRepay</td>\n",
       "      <td>LoanRef_Dummy Account Number_0546-00866537.90 ...</td>\n",
       "      <td>NaN</td>\n",
       "      <td>NaN</td>\n",
       "      <td>NaN</td>\n",
       "      <td>NaN</td>\n",
       "    </tr>\n",
       "    <tr>\n",
       "      <th>1</th>\n",
       "      <td>CreateTransaction</td>\n",
       "      <td>Dummy Account Number</td>\n",
       "      <td>07.05.2018</td>\n",
       "      <td>07.05.2018</td>\n",
       "      <td>Interest 0546-00866537.90 0007</td>\n",
       "      <td>-2263.63</td>\n",
       "      <td>LoanCost</td>\n",
       "      <td>LoanRef_Dummy Account Number_0546-00866537.90 ...</td>\n",
       "      <td>NaN</td>\n",
       "      <td>NaN</td>\n",
       "      <td>NaN</td>\n",
       "      <td>NaN</td>\n",
       "    </tr>\n",
       "    <tr>\n",
       "      <th>2</th>\n",
       "      <td>CreateTransaction</td>\n",
       "      <td>Dummy Account Number</td>\n",
       "      <td>07.05.2018</td>\n",
       "      <td>07.05.2018</td>\n",
       "      <td>Loan Payment 0546-00866537.90 0008</td>\n",
       "      <td>2013112.26</td>\n",
       "      <td>LoanCreate</td>\n",
       "      <td>LoanRef_Dummy Account Number_0546-00866537.90 ...</td>\n",
       "      <td>NaN</td>\n",
       "      <td>NaN</td>\n",
       "      <td>NaN</td>\n",
       "      <td>NaN</td>\n",
       "    </tr>\n",
       "    <tr>\n",
       "      <th>3</th>\n",
       "      <td>CreateTransaction</td>\n",
       "      <td>Dummy Account Number</td>\n",
       "      <td>16.04.2018</td>\n",
       "      <td>18.04.2018</td>\n",
       "      <td>Dividend LU0913601281 AGIF INC GROW AMH2D</td>\n",
       "      <td>11345.90</td>\n",
       "      <td>Distribution</td>\n",
       "      <td>NaN</td>\n",
       "      <td>NaN</td>\n",
       "      <td>NaN</td>\n",
       "      <td>NaN</td>\n",
       "      <td>NaN</td>\n",
       "    </tr>\n",
       "    <tr>\n",
       "      <th>4</th>\n",
       "      <td>CreateTransaction</td>\n",
       "      <td>Dummy Account Number</td>\n",
       "      <td>16.04.2018</td>\n",
       "      <td>19.04.2018</td>\n",
       "      <td>UBS Investment Funds B 16.04.2018 UBS LMMF USD PC</td>\n",
       "      <td>-30498.23</td>\n",
       "      <td>Purchase</td>\n",
       "      <td>NaN</td>\n",
       "      <td>NaN</td>\n",
       "      <td>NaN</td>\n",
       "      <td>NaN</td>\n",
       "      <td>NaN</td>\n",
       "    </tr>\n",
       "  </tbody>\n",
       "</table>\n",
       "</div>"
      ],
      "text/plain": [
       "              Action        CcyAccountCode   TradeDate   ValueDate  \\\n",
       "0  CreateTransaction  Dummy Account Number  07.05.2018  07.05.2018   \n",
       "1  CreateTransaction  Dummy Account Number  07.05.2018  07.05.2018   \n",
       "2  CreateTransaction  Dummy Account Number  07.05.2018  07.05.2018   \n",
       "3  CreateTransaction  Dummy Account Number  16.04.2018  18.04.2018   \n",
       "4  CreateTransaction  Dummy Account Number  16.04.2018  19.04.2018   \n",
       "\n",
       "                                           Narration      Amount  \\\n",
       "0                    Repayment 0546-00866537.90 0007 -2013112.26   \n",
       "1                     Interest 0546-00866537.90 0007    -2263.63   \n",
       "2                 Loan Payment 0546-00866537.90 0008  2013112.26   \n",
       "3          Dividend LU0913601281 AGIF INC GROW AMH2D    11345.90   \n",
       "4  UBS Investment Funds B 16.04.2018 UBS LMMF USD PC   -30498.23   \n",
       "\n",
       "  TransactionType                                             Ticker Quantity  \\\n",
       "0       LoanRepay  LoanRef_Dummy Account Number_0546-00866537.90 ...      NaN   \n",
       "1        LoanCost  LoanRef_Dummy Account Number_0546-00866537.90 ...      NaN   \n",
       "2      LoanCreate  LoanRef_Dummy Account Number_0546-00866537.90 ...      NaN   \n",
       "3    Distribution                                                NaN      NaN   \n",
       "4        Purchase                                                NaN      NaN   \n",
       "\n",
       "  Price DirtyPrice HashTags  \n",
       "0   NaN        NaN      NaN  \n",
       "1   NaN        NaN      NaN  \n",
       "2   NaN        NaN      NaN  \n",
       "3   NaN        NaN      NaN  \n",
       "4   NaN        NaN      NaN  "
      ]
     },
     "execution_count": 124,
     "metadata": {},
     "output_type": "execute_result"
    }
   ],
   "source": [
    "(uniform_solution_solver(excel_file))"
   ]
  },
  {
   "cell_type": "code",
   "execution_count": null,
   "metadata": {},
   "outputs": [],
   "source": []
  }
 ],
 "metadata": {
  "kernelspec": {
   "display_name": "Python 3",
   "language": "python",
   "name": "python3"
  },
  "language_info": {
   "codemirror_mode": {
    "name": "ipython",
    "version": 3
   },
   "file_extension": ".py",
   "mimetype": "text/x-python",
   "name": "python",
   "nbconvert_exporter": "python",
   "pygments_lexer": "ipython3",
   "version": "3.6.5"
  }
 },
 "nbformat": 4,
 "nbformat_minor": 2
}
