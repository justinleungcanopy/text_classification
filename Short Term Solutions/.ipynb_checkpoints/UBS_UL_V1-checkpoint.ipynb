{
 "cells": [
  {
   "cell_type": "code",
   "execution_count": 34,
   "metadata": {},
   "outputs": [
    {
     "name": "stdout",
     "output_type": "stream",
     "text": [
      "Requirement already satisfied: xlrd in c:\\users\\justin leung\\appdata\\local\\conda\\conda\\envs\\datafeed\\lib\\site-packages (1.1.0)\n"
     ]
    }
   ],
   "source": [
    "import numpy as np \n",
    "import pandas as pd \n",
    "!pip install xlrd\n",
    "import re\n"
   ]
  },
  {
   "cell_type": "code",
   "execution_count": 35,
   "metadata": {},
   "outputs": [],
   "source": [
    "excel_file = './Data Files/UBS Statement.xlsx'"
   ]
  },
  {
   "cell_type": "code",
   "execution_count": 74,
   "metadata": {},
   "outputs": [],
   "source": [
    "def uniform_solution_solver(excel_file):\n",
    "    df = pd.read_excel(excel_file)\n",
    "    \n",
    "    \n",
    "    #easy rows\n",
    "    #CcyAccountCode should have curency column\n",
    "    output_col = ['Action','CcyAccountCode','TradeDate','ValueDate','Narration','Amount','TransactionType','Ticker','Quantity','Price','DirtyPrice','HashTags']\n",
    "    output_df = pd.DataFrame(columns=output_col)\n",
    "    output_df['TradeDate'] = df['Trade date']\n",
    "    output_df['ValueDate'] = df['Value date']\n",
    "    output_df['Narration'] = df['Information']\n",
    "    output_df['Amount'] = -df['Debit']\n",
    "    output_df['Amount'] = output_df['Amount'].add(df['Credit'],fill_value = 0)\n",
    "    output_df.drop(output_df.index[output_df['Amount'].isna()],inplace=True)\n",
    "    output_df.index = range(len(output_df))\n",
    "    output_df['Action'] = pd.Series(['CreateTransaction']*len(output_df))\n",
    "    \n",
    "    #CcyAccountCode\n",
    "    output_df['CcyAccountCode'] = pd.Series(['Dummy Account Number']*len(output_df))\n",
    "    \n",
    "    #detect narration type\n",
    "    narration = []\n",
    "    ticker_boo = []\n",
    "    for i in output_df['Narration']:\n",
    "        if type(i) is str:\n",
    "            narration.append(text_classification(i)[0])\n",
    "            if len(text_classification(i)[1]) != 0:\n",
    "                ticker_boo.append(True)\n",
    "            else:\n",
    "                ticker_boo.append(False)\n",
    "        else:\n",
    "            pass\n",
    "    output_df['TransactionType'] = pd.Series(narration)\n",
    "    \n",
    "    #ticker\n",
    "    print (ticker_boo)\n",
    "    for i in range(len(ticker_boo)):\n",
    "        if ticker_boo[i]:\n",
    "            print ('a')\n",
    "        else: \n",
    "            print('b')\n",
    "        \n",
    "    \n",
    "    return output_df"
   ]
  },
  {
   "cell_type": "code",
   "execution_count": 75,
   "metadata": {},
   "outputs": [
    {
     "name": "stdout",
     "output_type": "stream",
     "text": [
      "[True, True, True, False, False]\n",
      "a\n",
      "a\n",
      "a\n",
      "b\n",
      "b\n",
      "              Action        CcyAccountCode   TradeDate   ValueDate  \\\n",
      "0  CreateTransaction  Dummy Account Number  07.05.2018  07.05.2018   \n",
      "1  CreateTransaction  Dummy Account Number  07.05.2018  07.05.2018   \n",
      "2  CreateTransaction  Dummy Account Number  07.05.2018  07.05.2018   \n",
      "3  CreateTransaction  Dummy Account Number  16.04.2018  18.04.2018   \n",
      "4  CreateTransaction  Dummy Account Number  16.04.2018  19.04.2018   \n",
      "\n",
      "                                           Narration      Amount  \\\n",
      "0                    Repayment 0546-00866537.90 0007 -2013112.26   \n",
      "1                     Interest 0546-00866537.90 0007    -2263.63   \n",
      "2                 Loan Payment 0546-00866537.90 0008  2013112.26   \n",
      "3          Dividend LU0913601281 AGIF INC GROW AMH2D    11345.90   \n",
      "4  UBS Investment Funds B 16.04.2018 UBS LMMF USD PC   -30498.23   \n",
      "\n",
      "  TransactionType Ticker Quantity Price DirtyPrice HashTags  \n",
      "0       LoanRepay    NaN      NaN   NaN        NaN      NaN  \n",
      "1        LoanCost    NaN      NaN   NaN        NaN      NaN  \n",
      "2      LoanCreate    NaN      NaN   NaN        NaN      NaN  \n",
      "3    Distribution    NaN      NaN   NaN        NaN      NaN  \n",
      "4        Purchase    NaN      NaN   NaN        NaN      NaN  \n"
     ]
    }
   ],
   "source": [
    "print(uniform_solution_solver(excel_file))"
   ]
  },
  {
   "cell_type": "code",
   "execution_count": 65,
   "metadata": {},
   "outputs": [],
   "source": [
    "def text_classification(string):\n",
    "    splitted = string.split(' ')\n",
    "    output = []\n",
    "    ticker = False\n",
    "    for splits in splitted:\n",
    "        if splits.lower() == 'repayment':\n",
    "            output.append('LoanRepay')\n",
    "            ticker = True\n",
    "        elif splits.lower() == 'interest':\n",
    "            output.append('LoanCost')\n",
    "            ticker = True\n",
    "        elif splits.lower() == 'loan':\n",
    "            output.append('LoanCreate')\n",
    "            ticker = True\n",
    "        elif splits.lower() == 'dividend':\n",
    "            output.append('Distribution')\n",
    "        elif splits.lower() == 'investment':\n",
    "            output.append('Purchase')\n",
    "        else:\n",
    "            pass\n",
    "    no_char = ''\n",
    "    if ticker:\n",
    "        no_char = re.sub('[a-z,A-Z]', '',string)\n",
    "    if len(output) == 1:\n",
    "        return (output[0],[i for i in no_char.split(' ') if i != ''])\n",
    "    else:\n",
    "        return 'Please Check Manually'"
   ]
  },
  {
   "cell_type": "code",
   "execution_count": null,
   "metadata": {},
   "outputs": [],
   "source": []
  }
 ],
 "metadata": {
  "kernelspec": {
   "display_name": "Python 3",
   "language": "python",
   "name": "python3"
  },
  "language_info": {
   "codemirror_mode": {
    "name": "ipython",
    "version": 3
   },
   "file_extension": ".py",
   "mimetype": "text/x-python",
   "name": "python",
   "nbconvert_exporter": "python",
   "pygments_lexer": "ipython3",
   "version": "3.6.5"
  }
 },
 "nbformat": 4,
 "nbformat_minor": 2
}
