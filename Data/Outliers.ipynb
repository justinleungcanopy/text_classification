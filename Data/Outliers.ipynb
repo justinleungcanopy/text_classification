{
 "cells": [
  {
   "cell_type": "code",
   "execution_count": 1,
   "metadata": {},
   "outputs": [
    {
     "name": "stdout",
     "output_type": "stream",
     "text": [
      "Requirement already satisfied: xlrd in c:\\users\\justin leung\\appdata\\local\\conda\\conda\\envs\\datafeed\\lib\\site-packages (1.1.0)\n"
     ]
    },
    {
     "name": "stderr",
     "output_type": "stream",
     "text": [
      "mkl-random 1.0.1 requires cython, which is not installed.\n",
      "mkl-fft 1.0.0 requires cython, which is not installed.\n"
     ]
    }
   ],
   "source": [
    "import numpy as np \n",
    "import pandas as pd \n",
    "!pip install xlrd \n"
   ]
  },
  {
   "cell_type": "code",
   "execution_count": 2,
   "metadata": {},
   "outputs": [],
   "source": [
    "all_data = pd.read_excel(\"all_data.xlsx\")"
   ]
  },
  {
   "cell_type": "code",
   "execution_count": 33,
   "metadata": {},
   "outputs": [
    {
     "name": "stdout",
     "output_type": "stream",
     "text": [
      "Distribution    0.154533\n",
      "LoanCreate      0.143729\n",
      "LoanCost        0.139972\n",
      "LoanRepay       0.133866\n",
      "Purchase        0.125411\n",
      "SpotFxIn        0.112729\n",
      "Sale            0.108502\n",
      "SpotFxOut       0.081259\n",
      "Name: TransactionType, dtype: float64\n",
      "(2178, 2)\n"
     ]
    },
    {
     "data": {
      "text/plain": [
       "(2129, 2)"
      ]
     },
     "execution_count": 33,
     "metadata": {},
     "output_type": "execute_result"
    }
   ],
   "source": [
    "all_data[:1]\n",
    "transaction = all_data[\"TransactionType\"]\n",
    "transaction_df = pd.DataFrame(transaction)\n",
    "#transaction.value_counts()\n",
    "all_data_filtered = all_data[(transaction_df.replace(transaction_df.apply(pd.Series.value_counts)).gt(20).all(1))]\n",
    "print (all_data_filtered['TransactionType'].value_counts(normalize=True))\n",
    "print(all_data.shape)\n",
    "all_data_filtered.shape\n",
    "\n",
    "#filtered_data = all_data[transaction.replace(transaction.apply(pd.Series.value_counts)).gt(20).all(1)]"
   ]
  },
  {
   "cell_type": "code",
   "execution_count": null,
   "metadata": {},
   "outputs": [],
   "source": []
  }
 ],
 "metadata": {
  "kernelspec": {
   "display_name": "Python 3",
   "language": "python",
   "name": "python3"
  },
  "language_info": {
   "codemirror_mode": {
    "name": "ipython",
    "version": 3
   },
   "file_extension": ".py",
   "mimetype": "text/x-python",
   "name": "python",
   "nbconvert_exporter": "python",
   "pygments_lexer": "ipython3",
   "version": "3.6.5"
  }
 },
 "nbformat": 4,
 "nbformat_minor": 2
}
