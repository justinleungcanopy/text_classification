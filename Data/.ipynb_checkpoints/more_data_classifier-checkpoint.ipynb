{
 "cells": [
  {
   "cell_type": "code",
   "execution_count": 11,
   "metadata": {},
   "outputs": [],
   "source": [
    "import numpy as np\n",
    "import pandas as pd\n",
    "import xlrd\n",
    "import os \n",
    "import sklearn\n",
    "from sklearn.model_selection import train_test_split\n",
    "from sklearn.preprocessing import LabelEncoder\n",
    "from sklearn.feature_extraction.text import CountVectorizer, HashingVectorizer\n",
    "from sklearn.naive_bayes import MultinomialNB\n",
    "from tpot import TPOTClassifier"
   ]
  },
  {
   "cell_type": "code",
   "execution_count": 7,
   "metadata": {},
   "outputs": [
    {
     "name": "stdout",
     "output_type": "stream",
     "text": [
      "37385     CASH DIVIDEND of 20,000 KINDER MORGAN-P @ USD ...\n",
      "43882     INTEREST PAYMENT of 200,000 5.95 GAP 21 SRN @ ...\n",
      "190548                  Currency Bought by Client#SpotFX In\n",
      "5023      Transactions for ICICI Prudential Business Cyc...\n",
      "131050    Money movement to neutralise ticket for CPI_Eu...\n",
      "150565    ATM Cash Withdrawal 12464682,HOLLAND V 243#Mon...\n",
      "51602     DIVIDEND CREDIT ALTERA CORPORATION (U.S. SECUR...\n",
      "140098    Account Transfer Reference: FT/16273/79794#Mon...\n",
      "133091           Transaction: BLD Product: 101_THB#Money In\n",
      "108900                              Subscription#MiscIncome\n",
      "180422    Share Amount_Sale_VanEck Vectors Gold Miners E...\n",
      "134342           Transaction: RTR Product: 101_THB#Money In\n",
      "92451     Loan Principal Due, Ref: MM/18051/01095#Loan R...\n",
      "125568    Money In for Loan Repay, REF - 76 ;2000591973,...\n",
      "50214     Security Event Transaction: Interest - Straigh...\n",
      "70777     Loan Costs for Term Loan SGD, 1.84%, 27/10/201...\n",
      "54794     COUPON PAYMENT - 50000/2375.00; MARFRIG OVERSE...\n",
      "3814      Securities Purchase of 732 D INV I T DIV FCC @...\n",
      "215360    Loan Interest Rollover Ref_2000522221#Transfer...\n",
      "215173    Loan Interest Rollover Ref_2000575503#Transfer...\n",
      "162762    Money Out for Loan Create, REF - 28 ;000020004...\n",
      "172901    SALES OF SECURITIES  APPLE INC#AAPL_US#-500#56...\n",
      "125268    Ticket to neutralise movement of Uts Aviva Inv...\n",
      "20157     Purchase ticket to reflect XS1160510951 moveme...\n",
      "143273          Transaction: WDW Product: 101_THB#Money Out\n",
      "116824           Transaction: DEP Product: 101_THB#Money In\n",
      "166691    SHARE S 23.03.2018 A9090659 Ping An Ins -H-#Sa...\n",
      "93284     Loan Repay, REF - STL0003230C, INT 0.0185#Loan...\n",
      "105669    30.0000% NRA WITHHOLDING Gross Dividend On 5,0...\n",
      "93982     REPAY FIXED LOAN  @1.26759% 31MAR2016-29APR201...\n",
      "                                ...                        \n",
      "182545    FOREX SALE 0502287/89717216 UBS PCD/N/A#SpotFX In\n",
      "175992    EXTOURNE ACHAT CALL 55 XAU/USD 26.02.18/1325.0...\n",
      "26285     Custodial Transfer of Loan Out#TransferFOP Loa...\n",
      "148565                      Balance at 31/03/2017#Money Out\n",
      "150861    Money Out for Loan Create, REF - 33 ;000020005...\n",
      "32154     TERM DEPOSIT CNH 311,839,146.49 FROM 08/05/15 ...\n",
      "93044     Loan Repay, REF - STL0013402C, INT 0.0250194#L...\n",
      "188750                  Currency Bought by Client#SpotFX In\n",
      "103374        Transaction: TAX Product: 351_THB#MiscExpense\n",
      "20080     TRADE BRISTOL-MYERS SQUIBB CO Ref: 2068335621#...\n",
      "139872                      Balance at 30/11/2016#Money Out\n",
      "195900                   Currency Sold by Client#SpotFX Out\n",
      "51911     BEING CASH PROCEEDS OF FRACTIONAL SHARES FOR S...\n",
      "167164        Sell VEA#Sale#VEA_US#-165.22#35.9520639147803\n",
      "176898    Sell JPM CREDIT LINKED WARRANT ON MARKIT     I...\n",
      "21905     Purchase-Affin Hwang Asset Mgmt Bhd#Purchase#H...\n",
      "167665    Securities Sale 1526.17 - WELL STRA T EUROP EQ...\n",
      "31422     Repayment of Principal0.04% Deposit - Fixed Te...\n",
      "175239    BLACKSTONE GROUP LP/THE PUT 01/19/18 @ 28 SUB-...\n",
      "139179    CASH WITHDRAWAL IS2:YLESH S20V81KR5 CUSIP: 000...\n",
      "180598    ALIBABA GRP SHS SPONSORED AMERICAN US01609W102...\n",
      "152037                     CHG ANNUAL SERVICE CHG#Money Out\n",
      "21586     SECURITY ABSOLUTE RETURN PRODUCTS Ref: 5008035...\n",
      "117908    Money In for Loan Repay, REF - Tranche 19 ; 50...\n",
      "73637     Int-Pmt on Matured Loan Ref: MM1703700337#Loan...\n",
      "109566    RECEIVABLES & PAYABLES - PROFIT/ INTEREST#Misc...\n",
      "50297     CASH DIVIDEND - 60000/97861.86; HSBC HOLDINGS ...\n",
      "5227      EXPIRED OPT AUTODESK INC CALL 01/15/16 @ 80  #...\n",
      "209213    Opening Entry for Atlas Enhanced Fund Ltd C-US...\n",
      "128383    Money In for Loan Cost, REF - STL0033187C, INT...\n",
      "Name: Bank Narration, Length: 76782, dtype: object\n"
     ]
    }
   ],
   "source": [
    "file_name = \"C:/Users/Justin Leung/Documents/GitHub/text_classification/Data/raw_data_from_engine/narration_and_transaction_type_processed.xlsx\"\n",
    "all_data = pd.read_excel(file_name)\n",
    "all_data = all_data[pd.notnull(all_data['Bank Narration'])]\n",
    "nar_train,nar_test,trans_train,trans_test = train_test_split(all_data['Bank Narration'],all_data['Transaction Type'],test_size=0.65, random_state=1)\n",
    "print(nar_train)\n"
   ]
  },
  {
   "cell_type": "code",
   "execution_count": 13,
   "metadata": {},
   "outputs": [
    {
     "ename": "MemoryError",
     "evalue": "",
     "output_type": "error",
     "traceback": [
      "\u001b[1;31m---------------------------------------------------------------------------\u001b[0m",
      "\u001b[1;31mMemoryError\u001b[0m                               Traceback (most recent call last)",
      "\u001b[1;32m<ipython-input-13-11708d6f89a1>\u001b[0m in \u001b[0;36m<module>\u001b[1;34m()\u001b[0m\n\u001b[0;32m      1\u001b[0m \u001b[0mcorpus_train\u001b[0m \u001b[1;33m=\u001b[0m \u001b[0mnar_train\u001b[0m\u001b[1;33m\u001b[0m\u001b[0m\n\u001b[0;32m      2\u001b[0m \u001b[0mhvectorizer\u001b[0m \u001b[1;33m=\u001b[0m \u001b[0mHashingVectorizer\u001b[0m\u001b[1;33m(\u001b[0m\u001b[1;33m)\u001b[0m\u001b[1;33m\u001b[0m\u001b[0m\n\u001b[1;32m----> 3\u001b[1;33m \u001b[0mnarration_train_vec\u001b[0m \u001b[1;33m=\u001b[0m \u001b[0mhvectorizer\u001b[0m\u001b[1;33m.\u001b[0m\u001b[0mfit_transform\u001b[0m\u001b[1;33m(\u001b[0m\u001b[0mcorpus_train\u001b[0m\u001b[1;33m)\u001b[0m\u001b[1;33m.\u001b[0m\u001b[0mtoarray\u001b[0m\u001b[1;33m(\u001b[0m\u001b[1;33m)\u001b[0m\u001b[1;33m\u001b[0m\u001b[0m\n\u001b[0m\u001b[0;32m      4\u001b[0m \u001b[1;31m#vectorizer = CountVectorizer(min_df=0) #min_df = ignore low frequency words, 1 ignore all\u001b[0m\u001b[1;33m\u001b[0m\u001b[1;33m\u001b[0m\u001b[0m\n\u001b[0;32m      5\u001b[0m \u001b[1;31m#narration_train_vec = vectorizer.fit_transform(corpus_train).toarray()\u001b[0m\u001b[1;33m\u001b[0m\u001b[1;33m\u001b[0m\u001b[0m\n",
      "\u001b[1;32m~\\AppData\\Local\\conda\\conda\\envs\\datafeed\\lib\\site-packages\\scipy\\sparse\\compressed.py\u001b[0m in \u001b[0;36mtoarray\u001b[1;34m(self, order, out)\u001b[0m\n\u001b[0;32m    945\u001b[0m         \u001b[1;32mif\u001b[0m \u001b[0mout\u001b[0m \u001b[1;32mis\u001b[0m \u001b[1;32mNone\u001b[0m \u001b[1;32mand\u001b[0m \u001b[0morder\u001b[0m \u001b[1;32mis\u001b[0m \u001b[1;32mNone\u001b[0m\u001b[1;33m:\u001b[0m\u001b[1;33m\u001b[0m\u001b[0m\n\u001b[0;32m    946\u001b[0m             \u001b[0morder\u001b[0m \u001b[1;33m=\u001b[0m \u001b[0mself\u001b[0m\u001b[1;33m.\u001b[0m\u001b[0m_swap\u001b[0m\u001b[1;33m(\u001b[0m\u001b[1;34m'cf'\u001b[0m\u001b[1;33m)\u001b[0m\u001b[1;33m[\u001b[0m\u001b[1;36m0\u001b[0m\u001b[1;33m]\u001b[0m\u001b[1;33m\u001b[0m\u001b[0m\n\u001b[1;32m--> 947\u001b[1;33m         \u001b[0mout\u001b[0m \u001b[1;33m=\u001b[0m \u001b[0mself\u001b[0m\u001b[1;33m.\u001b[0m\u001b[0m_process_toarray_args\u001b[0m\u001b[1;33m(\u001b[0m\u001b[0morder\u001b[0m\u001b[1;33m,\u001b[0m \u001b[0mout\u001b[0m\u001b[1;33m)\u001b[0m\u001b[1;33m\u001b[0m\u001b[0m\n\u001b[0m\u001b[0;32m    948\u001b[0m         \u001b[1;32mif\u001b[0m \u001b[1;32mnot\u001b[0m \u001b[1;33m(\u001b[0m\u001b[0mout\u001b[0m\u001b[1;33m.\u001b[0m\u001b[0mflags\u001b[0m\u001b[1;33m.\u001b[0m\u001b[0mc_contiguous\u001b[0m \u001b[1;32mor\u001b[0m \u001b[0mout\u001b[0m\u001b[1;33m.\u001b[0m\u001b[0mflags\u001b[0m\u001b[1;33m.\u001b[0m\u001b[0mf_contiguous\u001b[0m\u001b[1;33m)\u001b[0m\u001b[1;33m:\u001b[0m\u001b[1;33m\u001b[0m\u001b[0m\n\u001b[0;32m    949\u001b[0m             \u001b[1;32mraise\u001b[0m \u001b[0mValueError\u001b[0m\u001b[1;33m(\u001b[0m\u001b[1;34m'Output array must be C or F contiguous'\u001b[0m\u001b[1;33m)\u001b[0m\u001b[1;33m\u001b[0m\u001b[0m\n",
      "\u001b[1;32m~\\AppData\\Local\\conda\\conda\\envs\\datafeed\\lib\\site-packages\\scipy\\sparse\\base.py\u001b[0m in \u001b[0;36m_process_toarray_args\u001b[1;34m(self, order, out)\u001b[0m\n\u001b[0;32m   1182\u001b[0m             \u001b[1;32mreturn\u001b[0m \u001b[0mout\u001b[0m\u001b[1;33m\u001b[0m\u001b[0m\n\u001b[0;32m   1183\u001b[0m         \u001b[1;32melse\u001b[0m\u001b[1;33m:\u001b[0m\u001b[1;33m\u001b[0m\u001b[0m\n\u001b[1;32m-> 1184\u001b[1;33m             \u001b[1;32mreturn\u001b[0m \u001b[0mnp\u001b[0m\u001b[1;33m.\u001b[0m\u001b[0mzeros\u001b[0m\u001b[1;33m(\u001b[0m\u001b[0mself\u001b[0m\u001b[1;33m.\u001b[0m\u001b[0mshape\u001b[0m\u001b[1;33m,\u001b[0m \u001b[0mdtype\u001b[0m\u001b[1;33m=\u001b[0m\u001b[0mself\u001b[0m\u001b[1;33m.\u001b[0m\u001b[0mdtype\u001b[0m\u001b[1;33m,\u001b[0m \u001b[0morder\u001b[0m\u001b[1;33m=\u001b[0m\u001b[0morder\u001b[0m\u001b[1;33m)\u001b[0m\u001b[1;33m\u001b[0m\u001b[0m\n\u001b[0m\u001b[0;32m   1185\u001b[0m \u001b[1;33m\u001b[0m\u001b[0m\n\u001b[0;32m   1186\u001b[0m \u001b[1;33m\u001b[0m\u001b[0m\n",
      "\u001b[1;31mMemoryError\u001b[0m: "
     ]
    }
   ],
   "source": [
    "corpus_train = nar_train\n",
    "vectorizer = CountVectorizer(min_df=0) #min_df = ignore low frequency words, 1 ignore all\n",
    "narration_train_vec = vectorizer.fit_transform(corpus_train).toarray()\n",
    "corpus_test = nar_test\n",
    "vectorizer = CountVectorizer(min_df=0) #min_df = ignore low frequency words, 1 ignore all\n",
    "narration_test_vec = vectorizer.fit_transform(corpus_test).toarray()\n"
   ]
  },
  {
   "cell_type": "code",
   "execution_count": null,
   "metadata": {},
   "outputs": [],
   "source": [
    "le = LabelEncoder()\n",
    "le.fit(all_data['Transaction Type'])\n",
    "transaction_vec = le.transform(all_data['Transaction Type'])\n",
    "all_data['Transaction Type'].value_counts()"
   ]
  }
 ],
 "metadata": {
  "kernelspec": {
   "display_name": "Python 3",
   "language": "python",
   "name": "python3"
  },
  "language_info": {
   "codemirror_mode": {
    "name": "ipython",
    "version": 3
   },
   "file_extension": ".py",
   "mimetype": "text/x-python",
   "name": "python",
   "nbconvert_exporter": "python",
   "pygments_lexer": "ipython3",
   "version": "3.6.5"
  }
 },
 "nbformat": 4,
 "nbformat_minor": 2
}
