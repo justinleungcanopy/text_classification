{
 "cells": [
  {
   "cell_type": "code",
   "execution_count": 2,
   "metadata": {},
   "outputs": [
    {
     "name": "stderr",
     "output_type": "stream",
     "text": [
      "C:\\Users\\Justin Leung\\AppData\\Local\\conda\\conda\\envs\\datafeed\\lib\\site-packages\\deap\\tools\\_hypervolume\\pyhv.py:33: ImportWarning: Falling back to the python version of hypervolume module. Expect this to be very slow.\n",
      "  \"module. Expect this to be very slow.\", ImportWarning)\n",
      "C:\\Users\\Justin Leung\\AppData\\Local\\conda\\conda\\envs\\datafeed\\lib\\importlib\\_bootstrap.py:219: ImportWarning: can't resolve package from __spec__ or __package__, falling back on __name__ and __path__\n",
      "  return f(*args, **kwds)\n"
     ]
    }
   ],
   "source": [
    "import numpy as np\n",
    "import pandas as pd\n",
    "import os\n",
    "import sklearn\n",
    "from sklearn.model_selection import train_test_split\n",
    "from sklearn.preprocessing import LabelEncoder\n",
    "from sklearn.feature_extraction.text import CountVectorizer\n",
    "from sklearn.naive_bayes import MultinomialNB\n",
    "from tpot import TPOTClassifier"
   ]
  },
  {
   "cell_type": "code",
   "execution_count": 3,
   "metadata": {},
   "outputs": [],
   "source": [
    "#Extracting Data"
   ]
  },
  {
   "cell_type": "code",
   "execution_count": 4,
   "metadata": {},
   "outputs": [],
   "source": [
    "all_data = pd.read_excel(\"all_data.xlsx\")\n",
    "corpus = all_data[\"Narration\"]\n",
    "vectorizer = CountVectorizer(min_df=0) #min_df = ignore low frequency words, 1 ignore all\n",
    "narration_vec = vectorizer.fit_transform(corpus).toarray()\n",
    "#print (narration_vec.shape)\n",
    "#narration_vec"
   ]
  },
  {
   "cell_type": "code",
   "execution_count": 5,
   "metadata": {},
   "outputs": [],
   "source": [
    "#mlb = sklearn.preprocessing.MultiLabelBinarizer()\n",
    "#transaction_vec = mlb.fit_transform(all_data['TransactionType']) #binarize\n",
    "le = LabelEncoder()\n",
    "le.fit(all_data['TransactionType'])\n",
    "transaction_vec = le.transform(all_data['TransactionType'])\n",
    "\n"
   ]
  },
  {
   "cell_type": "code",
   "execution_count": 6,
   "metadata": {},
   "outputs": [],
   "source": [
    "nar_train,nar_test,trans_train,trans_test = train_test_split(narration_vec,transaction_vec,test_size=0.33,random_state=1)\n",
    "#print(transaction_vec.shape)\n",
    "#print(narration_vec.shape)\n",
    "#print(nar_train.shape)\n",
    "#print(nar_test.shape)\n",
    "#print(trans_train.shape)\n",
    "print(trans_test.shape)"
   ]
  },
  {
   "cell_type": "code",
   "execution_count": null,
   "metadata": {},
   "outputs": [
    {
     "name": "stderr",
     "output_type": "stream",
     "text": [
      "C:\\Users\\Justin Leung\\AppData\\Local\\conda\\conda\\envs\\datafeed\\lib\\importlib\\_bootstrap.py:219: ImportWarning: can't resolve package from __spec__ or __package__, falling back on __name__ and __path__\n",
      "  return f(*args, **kwds)\n",
      "Optimization Progress:   0%|                                                             | 0/300 [00:00<?, ?pipeline/s]"
     ]
    }
   ],
   "source": [
    "tpot = TPOTClassifier(generations=5,population_size=50,verbosity=2)\n",
    "tpot.fit(nar_train,trans_train)\n",
    "print(tpot.score(nar_test,trans_test))\n",
    "tpot.export('tpot_run_1_pipeline.py')"
   ]
  }
 ],
 "metadata": {
  "kernelspec": {
   "display_name": "Python 3",
   "language": "python",
   "name": "python3"
  }
 },
 "nbformat": 4,
 "nbformat_minor": 2
}
