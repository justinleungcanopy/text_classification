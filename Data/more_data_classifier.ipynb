{
 "cells": [
  {
   "cell_type": "code",
   "execution_count": 1,
   "metadata": {},
   "outputs": [
    {
     "name": "stderr",
     "output_type": "stream",
     "text": [
      "C:\\Users\\Justin Leung\\AppData\\Local\\conda\\conda\\envs\\datafeed\\lib\\site-packages\\deap\\tools\\_hypervolume\\pyhv.py:33: ImportWarning: Falling back to the python version of hypervolume module. Expect this to be very slow.\n",
      "  \"module. Expect this to be very slow.\", ImportWarning)\n",
      "C:\\Users\\Justin Leung\\AppData\\Local\\conda\\conda\\envs\\datafeed\\lib\\importlib\\_bootstrap.py:219: ImportWarning: can't resolve package from __spec__ or __package__, falling back on __name__ and __path__\n",
      "  return f(*args, **kwds)\n"
     ]
    }
   ],
   "source": [
    "import numpy as np\n",
    "import pandas as pd\n",
    "import xlrd\n",
    "import os \n",
    "import sklearn\n",
    "from sklearn.model_selection import train_test_split\n",
    "from sklearn.preprocessing import LabelEncoder\n",
    "from sklearn.feature_extraction.text import CountVectorizer, HashingVectorizer\n",
    "from sklearn.naive_bayes import MultinomialNB\n",
    "from tpot import TPOTClassifier"
   ]
  },
  {
   "cell_type": "code",
   "execution_count": 2,
   "metadata": {},
   "outputs": [],
   "source": [
    "file_name = \"C:/Users/Justin Leung/Documents/GitHub/text_classification/Data/raw_data_from_engine/narration_and_transaction_type_processed.xlsx\"\n",
    "# all data has roughly 200,000 data fields\n",
    "all_data = pd.read_excel(file_name)\n",
    "all_data = all_data[pd.notnull(all_data['Bank Narration'])]\n",
    "nar_train_temp,nar_test_temp,trans_train_temp,trans_test_temp = train_test_split(all_data['Bank Narration'],all_data['Transaction Type'],test_size=0.9, random_state=1)\n",
    "nar_train,nar_test,trans_train,trans_test = train_test_split(nar_train_temp,trans_train_temp,test_size = 0.35,random_state=1)\n"
   ]
  },
  {
   "cell_type": "code",
   "execution_count": 3,
   "metadata": {},
   "outputs": [],
   "source": [
    "corpus_train = nar_train\n",
    "vectorizer = CountVectorizer(min_df=0) #min_df = ignore low frequency words, 1 ignore all\n",
    "nar_train_vec = vectorizer.fit_transform(corpus_train).toarray()\n",
    "corpus_test = nar_test\n",
    "vectorizer = CountVectorizer(min_df=0) #min_df = ignore low frequency words, 1 ignore all\n",
    "nar_test_vec = vectorizer.fit_transform(corpus_test).toarray()\n"
   ]
  },
  {
   "cell_type": "code",
   "execution_count": 5,
   "metadata": {},
   "outputs": [],
   "source": [
    "le = LabelEncoder()\n",
    "le.fit(trans_train)\n",
    "trans_train_vec = le.transform(trans_train)\n",
    "trans_test_vec = le.transform(trans_test)\n",
    "\n"
   ]
  },
  {
   "cell_type": "code",
   "execution_count": null,
   "metadata": {},
   "outputs": [
    {
     "name": "stderr",
     "output_type": "stream",
     "text": [
      "C:\\Users\\Justin Leung\\AppData\\Local\\conda\\conda\\envs\\datafeed\\lib\\importlib\\_bootstrap.py:219: ImportWarning: can't resolve package from __spec__ or __package__, falling back on __name__ and __path__\n",
      "  return f(*args, **kwds)\n",
      "Optimization Progress:   2%|▉                                                  | 6/320 [05:03<4:24:19, 50.51s/pipeline]"
     ]
    }
   ],
   "source": [
    "tpot = TPOTClassifier(generations=3,population_size=80,verbosity=2)\n",
    "tpot.fit(nar_train_vec,trans_train_vec)\n",
    "print(tpot.score(nar_test_vec,trans_test_vec))\n",
    "tpot.export('tpot_run_1_pipeline.py')"
   ]
  },
  {
   "cell_type": "code",
   "execution_count": null,
   "metadata": {},
   "outputs": [],
   "source": []
  }
 ],
 "metadata": {
  "kernelspec": {
   "display_name": "Python 3",
   "language": "python",
   "name": "python3"
  },
  "language_info": {
   "codemirror_mode": {
    "name": "ipython",
    "version": 3
   },
   "file_extension": ".py",
   "mimetype": "text/x-python",
   "name": "python",
   "nbconvert_exporter": "python",
   "pygments_lexer": "ipython3",
   "version": "3.6.5"
  }
 },
 "nbformat": 4,
 "nbformat_minor": 2
}
