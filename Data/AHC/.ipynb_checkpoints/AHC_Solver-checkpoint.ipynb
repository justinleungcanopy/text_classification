{
 "cells": [
  {
   "cell_type": "code",
   "execution_count": 1,
   "metadata": {},
   "outputs": [
    {
     "name": "stdout",
     "output_type": "stream",
     "text": [
      "Requirement already satisfied: xlrd in c:\\users\\justin leung\\appdata\\local\\conda\\conda\\envs\\datafeed\\lib\\site-packages (1.1.0)\n"
     ]
    },
    {
     "name": "stderr",
     "output_type": "stream",
     "text": [
      "mkl-random 1.0.1 requires cython, which is not installed.\n",
      "mkl-fft 1.0.0 requires cython, which is not installed.\n"
     ]
    }
   ],
   "source": [
    "!pip install xlrd\n",
    "import numpy as np\n",
    "import pandas as pd"
   ]
  },
  {
   "cell_type": "code",
   "execution_count": 6,
   "metadata": {},
   "outputs": [
    {
     "name": "stdout",
     "output_type": "stream",
     "text": [
      "                               1              2             3   \\\n",
      "0                             NaN            NaN           NaN   \n",
      "1                             NaN  Month-To-Date  Year-to-Date   \n",
      "2                             NaN         Return        Return   \n",
      "3                        xxxxPDSA         (0.46)        (1.31)   \n",
      "4  Benchmark - Absolute Return 5%           0.40          1.62   \n",
      "\n",
      "               4                5               6     7     8     9     10  \\\n",
      "0             NaN  Since Inception             NaN  None  None  None  None   \n",
      "1             NaN              NaN             NaN  None  None  None  None   \n",
      "2  Cumulative (%)              NaN  Annualised (%)  None  None  None  None   \n",
      "3            5.05              NaN            3.87  None  None  None  None   \n",
      "4            6.54              NaN            5.00  None  None  None  None   \n",
      "\n",
      "     11    12    13    14    15    16    17  \n",
      "0  None  None  None  None  None  None  None  \n",
      "1  None  None  None  None  None  None  None  \n",
      "2  None  None  None  None  None  None  None  \n",
      "3  None  None  None  None  None  None  None  \n",
      "4  None  None  None  None  None  None  None  \n"
     ]
    }
   ],
   "source": [
    "def AHC_solver(csv_file):\n",
    "    def read_csv_bad_col(csv_file):\n",
    "        length_of_file = 2\n",
    "        loop = True\n",
    "        while loop:\n",
    "            try:\n",
    "                output_csv = pd.read_csv(csv_file,names=list(range(1,length_of_file)),engine='python')\n",
    "                loop = False\n",
    "            except:\n",
    "                length_of_file += 1\n",
    "        return output_csv\n",
    "    def solver(df):\n",
    "        footer_1_index = df.iloc[:,0] == \"INVESTMENT INCOME\"\n",
    "        footer_1 = int(np.sort(df.index[footer_1_index]))\n",
    "        df_1 = df[0:footer_1]\n",
    "        \n",
    "        \n",
    "        return df[0:5]\n",
    "    return solver(read_csv_bad_col(csv_file))\n",
    "\n",
    "print(AHC_solver(\"tabula-Apr_2018_Portfolio_D1_xxxxPDSA__CANOPY_.csv\"))\n",
    "\n",
    "\n",
    "\n",
    "\n",
    "\n",
    "\n"
   ]
  },
  {
   "cell_type": "code",
   "execution_count": 2,
   "metadata": {},
   "outputs": [
    {
     "name": "stdout",
     "output_type": "stream",
     "text": [
      "Done\n"
     ]
    }
   ],
   "source": [
    "print(\"Done\")"
   ]
  },
  {
   "cell_type": "code",
   "execution_count": null,
   "metadata": {},
   "outputs": [],
   "source": []
  }
 ],
 "metadata": {
  "kernelspec": {
   "display_name": "Python 3",
   "language": "python",
   "name": "python3"
  },
  "language_info": {
   "codemirror_mode": {
    "name": "ipython",
    "version": 3
   },
   "file_extension": ".py",
   "mimetype": "text/x-python",
   "name": "python",
   "nbconvert_exporter": "python",
   "pygments_lexer": "ipython3",
   "version": "3.6.5"
  }
 },
 "nbformat": 4,
 "nbformat_minor": 2
}
